{
 "cells": [
  {
   "cell_type": "code",
   "execution_count": 1,
   "id": "edd0cd20-807c-4e9c-9526-4d05563ace6e",
   "metadata": {
    "tags": []
   },
   "outputs": [],
   "source": [
    "import pandas as pd\n",
    "import numpy as np\n",
    "import seaborn as sns\n",
    "import matplotlib.pyplot as plt"
   ]
  },
  {
   "cell_type": "code",
   "execution_count": 2,
   "id": "5bb11041-dde3-4a8c-93b8-a2c2b8ed58f2",
   "metadata": {
    "tags": []
   },
   "outputs": [
    {
     "name": "stdout",
     "output_type": "stream",
     "text": [
      "pandas version 2.0.3\n",
      "numpy version 1.24.3\n",
      "seaborn version 0.12.2\n"
     ]
    }
   ],
   "source": [
    "print('pandas version', pd.__version__)\n",
    "print('numpy version', np.__version__)\n",
    "print('seaborn version', sns.__version__)\n",
    "import warnings\n",
    "# warnings.filterwarnings('ignore')"
   ]
  },
  {
   "cell_type": "code",
   "execution_count": 3,
   "id": "f1383192-f14e-4071-a216-274eb6a89b07",
   "metadata": {},
   "outputs": [],
   "source": [
    "df = pd.read_csv('IMDb Movies India.csv')"
   ]
  },
  {
   "cell_type": "code",
   "execution_count": 4,
   "id": "1f689248-42be-424a-9aad-772a5010bbc9",
   "metadata": {
    "tags": []
   },
   "outputs": [
    {
     "name": "stdout",
     "output_type": "stream",
     "text": [
      "<class 'pandas.core.frame.DataFrame'>\n",
      "RangeIndex: 15509 entries, 0 to 15508\n",
      "Data columns (total 10 columns):\n",
      " #   Column    Non-Null Count  Dtype  \n",
      "---  ------    --------------  -----  \n",
      " 0   Name      15509 non-null  object \n",
      " 1   Year      14981 non-null  object \n",
      " 2   Duration  7240 non-null   object \n",
      " 3   Genre     13632 non-null  object \n",
      " 4   Rating    7919 non-null   float64\n",
      " 5   Votes     7920 non-null   object \n",
      " 6   Director  14984 non-null  object \n",
      " 7   Actor 1   13892 non-null  object \n",
      " 8   Actor 2   13125 non-null  object \n",
      " 9   Actor 3   12365 non-null  object \n",
      "dtypes: float64(1), object(9)\n",
      "memory usage: 1.2+ MB\n"
     ]
    }
   ],
   "source": [
    "df.info()"
   ]
  },
  {
   "cell_type": "markdown",
   "id": "9586dc7e-9656-47d8-a78e-f942079b5256",
   "metadata": {},
   "source": [
    "    In this dataset, we notice the following:\n",
    "- The Year is supposed to be a number but the entries are object\n",
    "- Same remarques for the Duration and Votes Column\n",
    "- All the column contains null values which we need to handle accordingly "
   ]
  },
  {
   "cell_type": "code",
   "execution_count": null,
   "id": "68dd0b42-af0a-4a73-be6d-ab85e4b67d44",
   "metadata": {
    "tags": []
   },
   "outputs": [],
   "source": []
  },
  {
   "cell_type": "code",
   "execution_count": null,
   "id": "f41dbd84-93ad-4a14-ac18-ace9aa046c81",
   "metadata": {},
   "outputs": [],
   "source": []
  },
  {
   "cell_type": "code",
   "execution_count": null,
   "id": "4ba2db68-3752-4698-87cf-049e2f3c4ded",
   "metadata": {},
   "outputs": [],
   "source": []
  },
  {
   "cell_type": "code",
   "execution_count": null,
   "id": "af6f03c4-a9e2-45ad-9fdb-5bb2df1ec4e7",
   "metadata": {},
   "outputs": [],
   "source": []
  },
  {
   "cell_type": "code",
   "execution_count": 38,
   "id": "8e6e101e-58d1-4294-ac2c-e4604d8dd0bd",
   "metadata": {},
   "outputs": [],
   "source": [
    "def drop_null(dataset):\n",
    "    features = ['Name', 'Year', 'Genre', 'Director', 'Rating', 'Actor 1', 'Actor 2', 'Actor 3']\n",
    "    dataset.dropna(subset=features, inplace=True)\n",
    "    dataset.reset_index(drop=True, inplace=True)\n",
    "    \n",
    "    \n",
    "def reformat(dataset):\n",
    "    dataset['Name'] = dataset['Name'].str.extract('([A-Za-z\\s\\'\\-]+)')\n",
    "    dataset['Year'] = dataset['Year'].str.strip('()').astype(float)\n",
    "    dataset['Duration'] = dataset['Duration'].str.rstrip(' min').astype(float)\n",
    "    \n",
    "    dataset['Genre'] = dataset['Genre'].str.split(', ')\n",
    "    dataset = dataset.explode('Genre')\n",
    "    dataset['Genre'].fillna(dataset['Genre'].mode()[0], inplace=True)\n",
    "    \n",
    "    dataset['Votes'] = dataset['Votes'].astype(float)\n",
    "    dataset['Director'] = dataset['Director'].str.extract('([A-Za-z\\s\\'\\-]+)')\n",
    "    dataset['Actor 1'] = dataset['Actor 1'].str.extract('([A-Za-z\\s\\'\\-]+)')\n",
    "    dataset['Actor 2'] = dataset['Actor 2'].str.extract('([A-Za-z\\s\\'\\-]+)')\n",
    "    dataset['Actor 3'] = dataset['Actor 3'].str.extract('([A-Za-z\\s\\'\\-]+)')\n",
    "    \n",
    "    return dataset\n",
    "\n",
    "def fill_missing(dataset):\n",
    "    dataset['Votes'].fillna(dataset['Votes'].mean(), inplace=True)\n",
    "    dataset['Rating'].fillna(dataset['Rating'].mean(), inplace=True)\n",
    "    dataset['Duration'].fillna(dataset['Duration'].mean(), inplace=True)\n",
    "    dataset.reset_index(drop = True, inplace = True)\n",
    "\n",
    "def cleaning_pipeline(dataset):\n",
    "    drop_null(dataset)\n",
    "    dataset = reformat(dataset)\n",
    "    dataset = dataset.drop_duplicates(subset=['Name'], keep=False)\n",
    "    dataset.reset_index(drop=True, inplace=True)\n",
    "    fill_missing(dataset)\n",
    "    return dataset"
   ]
  },
  {
   "cell_type": "code",
   "execution_count": 43,
   "id": "68ffefd4-0f8c-4da2-972e-848639886078",
   "metadata": {},
   "outputs": [],
   "source": [
    "dataset = df.copy()\n",
    "dataset = cleaning_pipeline(dataset)\n"
   ]
  },
  {
   "cell_type": "code",
   "execution_count": 45,
   "id": "5e615899-cd84-4d75-b417-eb25bad30b5e",
   "metadata": {},
   "outputs": [
    {
     "data": {
      "text/html": [
       "<div>\n",
       "<style scoped>\n",
       "    .dataframe tbody tr th:only-of-type {\n",
       "        vertical-align: middle;\n",
       "    }\n",
       "\n",
       "    .dataframe tbody tr th {\n",
       "        vertical-align: top;\n",
       "    }\n",
       "\n",
       "    .dataframe thead th {\n",
       "        text-align: right;\n",
       "    }\n",
       "</style>\n",
       "<table border=\"1\" class=\"dataframe\">\n",
       "  <thead>\n",
       "    <tr style=\"text-align: right;\">\n",
       "      <th></th>\n",
       "      <th>Year</th>\n",
       "      <th>Duration</th>\n",
       "      <th>Rating</th>\n",
       "      <th>Votes</th>\n",
       "    </tr>\n",
       "  </thead>\n",
       "  <tbody>\n",
       "    <tr>\n",
       "      <th>count</th>\n",
       "      <td>2183.000000</td>\n",
       "      <td>2183.000000</td>\n",
       "      <td>2183.000000</td>\n",
       "      <td>2183.000000</td>\n",
       "    </tr>\n",
       "    <tr>\n",
       "      <th>mean</th>\n",
       "      <td>1995.847916</td>\n",
       "      <td>123.200551</td>\n",
       "      <td>5.831012</td>\n",
       "      <td>391.024279</td>\n",
       "    </tr>\n",
       "    <tr>\n",
       "      <th>std</th>\n",
       "      <td>20.028000</td>\n",
       "      <td>20.472116</td>\n",
       "      <td>1.425445</td>\n",
       "      <td>3614.739255</td>\n",
       "    </tr>\n",
       "    <tr>\n",
       "      <th>min</th>\n",
       "      <td>1931.000000</td>\n",
       "      <td>45.000000</td>\n",
       "      <td>1.600000</td>\n",
       "      <td>5.000000</td>\n",
       "    </tr>\n",
       "    <tr>\n",
       "      <th>25%</th>\n",
       "      <td>1984.000000</td>\n",
       "      <td>117.000000</td>\n",
       "      <td>4.900000</td>\n",
       "      <td>11.000000</td>\n",
       "    </tr>\n",
       "    <tr>\n",
       "      <th>50%</th>\n",
       "      <td>1999.000000</td>\n",
       "      <td>123.200551</td>\n",
       "      <td>6.000000</td>\n",
       "      <td>23.000000</td>\n",
       "    </tr>\n",
       "    <tr>\n",
       "      <th>75%</th>\n",
       "      <td>2014.000000</td>\n",
       "      <td>132.000000</td>\n",
       "      <td>6.800000</td>\n",
       "      <td>70.500000</td>\n",
       "    </tr>\n",
       "    <tr>\n",
       "      <th>max</th>\n",
       "      <td>2021.000000</td>\n",
       "      <td>300.000000</td>\n",
       "      <td>9.600000</td>\n",
       "      <td>101014.000000</td>\n",
       "    </tr>\n",
       "  </tbody>\n",
       "</table>\n",
       "</div>"
      ],
      "text/plain": [
       "              Year     Duration       Rating          Votes\n",
       "count  2183.000000  2183.000000  2183.000000    2183.000000\n",
       "mean   1995.847916   123.200551     5.831012     391.024279\n",
       "std      20.028000    20.472116     1.425445    3614.739255\n",
       "min    1931.000000    45.000000     1.600000       5.000000\n",
       "25%    1984.000000   117.000000     4.900000      11.000000\n",
       "50%    1999.000000   123.200551     6.000000      23.000000\n",
       "75%    2014.000000   132.000000     6.800000      70.500000\n",
       "max    2021.000000   300.000000     9.600000  101014.000000"
      ]
     },
     "execution_count": 45,
     "metadata": {},
     "output_type": "execute_result"
    }
   ],
   "source": [
    "dataset.describe()"
   ]
  },
  {
   "cell_type": "code",
   "execution_count": null,
   "id": "5b4ba8f3-4ca1-47ed-81ff-31f9d888c362",
   "metadata": {},
   "outputs": [],
   "source": []
  },
  {
   "cell_type": "markdown",
   "id": "67709031-3148-41d0-8ddd-41a98b02382b",
   "metadata": {},
   "source": [
    "# Feature enginnering"
   ]
  },
  {
   "cell_type": "code",
   "execution_count": 56,
   "id": "f08ff3df-f823-4293-b0fc-fac2b5de1035",
   "metadata": {},
   "outputs": [],
   "source": [
    "dataset.drop('Name', axis = 1, inplace = True)"
   ]
  },
  {
   "cell_type": "code",
   "execution_count": 57,
   "id": "b54036fc-bf3c-4195-831c-ec3d72738c64",
   "metadata": {},
   "outputs": [
    {
     "data": {
      "text/html": [
       "<div>\n",
       "<style scoped>\n",
       "    .dataframe tbody tr th:only-of-type {\n",
       "        vertical-align: middle;\n",
       "    }\n",
       "\n",
       "    .dataframe tbody tr th {\n",
       "        vertical-align: top;\n",
       "    }\n",
       "\n",
       "    .dataframe thead th {\n",
       "        text-align: right;\n",
       "    }\n",
       "</style>\n",
       "<table border=\"1\" class=\"dataframe\">\n",
       "  <thead>\n",
       "    <tr style=\"text-align: right;\">\n",
       "      <th></th>\n",
       "      <th>Year</th>\n",
       "      <th>Duration</th>\n",
       "      <th>Genre</th>\n",
       "      <th>Rating</th>\n",
       "      <th>Votes</th>\n",
       "      <th>Director</th>\n",
       "      <th>Actor 1</th>\n",
       "      <th>Actor 2</th>\n",
       "      <th>Actor 3</th>\n",
       "    </tr>\n",
       "  </thead>\n",
       "  <tbody>\n",
       "    <tr>\n",
       "      <th>0</th>\n",
       "      <td>2019.0</td>\n",
       "      <td>109.000000</td>\n",
       "      <td>7</td>\n",
       "      <td>7.0</td>\n",
       "      <td>8.0</td>\n",
       "      <td>358</td>\n",
       "      <td>Rasika Dugal</td>\n",
       "      <td>Vivek Ghamande</td>\n",
       "      <td>Arvind Jangid</td>\n",
       "    </tr>\n",
       "    <tr>\n",
       "      <th>1</th>\n",
       "      <td>2004.0</td>\n",
       "      <td>96.000000</td>\n",
       "      <td>7</td>\n",
       "      <td>6.2</td>\n",
       "      <td>17.0</td>\n",
       "      <td>615</td>\n",
       "      <td>Rati Agnihotri</td>\n",
       "      <td>Gulshan Grover</td>\n",
       "      <td>Atul Kulkarni</td>\n",
       "    </tr>\n",
       "    <tr>\n",
       "      <th>2</th>\n",
       "      <td>2016.0</td>\n",
       "      <td>120.000000</td>\n",
       "      <td>11</td>\n",
       "      <td>5.9</td>\n",
       "      <td>59.0</td>\n",
       "      <td>135</td>\n",
       "      <td>Pankaj Berry</td>\n",
       "      <td>Anubhav Dhir</td>\n",
       "      <td>Hritu Dudani</td>\n",
       "    </tr>\n",
       "    <tr>\n",
       "      <th>3</th>\n",
       "      <td>2005.0</td>\n",
       "      <td>116.000000</td>\n",
       "      <td>7</td>\n",
       "      <td>7.1</td>\n",
       "      <td>1002.0</td>\n",
       "      <td>125</td>\n",
       "      <td>Shabana Azmi</td>\n",
       "      <td>Konkona Sen Sharma</td>\n",
       "      <td>Rahul Bose</td>\n",
       "    </tr>\n",
       "    <tr>\n",
       "      <th>4</th>\n",
       "      <td>1993.0</td>\n",
       "      <td>168.000000</td>\n",
       "      <td>7</td>\n",
       "      <td>5.6</td>\n",
       "      <td>15.0</td>\n",
       "      <td>1279</td>\n",
       "      <td>Ronit Roy</td>\n",
       "      <td>Tisca Chopra</td>\n",
       "      <td>Shakti Kapoor</td>\n",
       "    </tr>\n",
       "    <tr>\n",
       "      <th>...</th>\n",
       "      <td>...</td>\n",
       "      <td>...</td>\n",
       "      <td>...</td>\n",
       "      <td>...</td>\n",
       "      <td>...</td>\n",
       "      <td>...</td>\n",
       "      <td>...</td>\n",
       "      <td>...</td>\n",
       "      <td>...</td>\n",
       "    </tr>\n",
       "    <tr>\n",
       "      <th>2178</th>\n",
       "      <td>2000.0</td>\n",
       "      <td>140.000000</td>\n",
       "      <td>7</td>\n",
       "      <td>5.7</td>\n",
       "      <td>7.0</td>\n",
       "      <td>1190</td>\n",
       "      <td>Sunil Sukthankar</td>\n",
       "      <td>Mita Vashisht</td>\n",
       "      <td>Milind Gunaji</td>\n",
       "    </tr>\n",
       "    <tr>\n",
       "      <th>2179</th>\n",
       "      <td>2018.0</td>\n",
       "      <td>100.000000</td>\n",
       "      <td>7</td>\n",
       "      <td>5.7</td>\n",
       "      <td>78.0</td>\n",
       "      <td>1120</td>\n",
       "      <td>Shashank Arora</td>\n",
       "      <td>Prince Daniel</td>\n",
       "      <td>Shatakshi Gupta</td>\n",
       "    </tr>\n",
       "    <tr>\n",
       "      <th>2180</th>\n",
       "      <td>1996.0</td>\n",
       "      <td>123.200551</td>\n",
       "      <td>0</td>\n",
       "      <td>4.7</td>\n",
       "      <td>29.0</td>\n",
       "      <td>38</td>\n",
       "      <td>Mahesh Anand</td>\n",
       "      <td>Vikas Anand</td>\n",
       "      <td>Bob Christo</td>\n",
       "    </tr>\n",
       "    <tr>\n",
       "      <th>2181</th>\n",
       "      <td>2015.0</td>\n",
       "      <td>115.000000</td>\n",
       "      <td>7</td>\n",
       "      <td>6.1</td>\n",
       "      <td>408.0</td>\n",
       "      <td>701</td>\n",
       "      <td>Vicky Kaushal</td>\n",
       "      <td>Sarah Jane Dias</td>\n",
       "      <td>Raaghavv Chanana</td>\n",
       "    </tr>\n",
       "    <tr>\n",
       "      <th>2182</th>\n",
       "      <td>1988.0</td>\n",
       "      <td>123.200551</td>\n",
       "      <td>0</td>\n",
       "      <td>4.6</td>\n",
       "      <td>11.0</td>\n",
       "      <td>621</td>\n",
       "      <td>Naseeruddin Shah</td>\n",
       "      <td>Sumeet Saigal</td>\n",
       "      <td>Suparna Anand</td>\n",
       "    </tr>\n",
       "  </tbody>\n",
       "</table>\n",
       "<p>2183 rows × 9 columns</p>\n",
       "</div>"
      ],
      "text/plain": [
       "        Year    Duration  Genre  Rating   Votes  Director           Actor 1  \\\n",
       "0     2019.0  109.000000      7     7.0     8.0       358      Rasika Dugal   \n",
       "1     2004.0   96.000000      7     6.2    17.0       615    Rati Agnihotri   \n",
       "2     2016.0  120.000000     11     5.9    59.0       135      Pankaj Berry   \n",
       "3     2005.0  116.000000      7     7.1  1002.0       125      Shabana Azmi   \n",
       "4     1993.0  168.000000      7     5.6    15.0      1279         Ronit Roy   \n",
       "...      ...         ...    ...     ...     ...       ...               ...   \n",
       "2178  2000.0  140.000000      7     5.7     7.0      1190  Sunil Sukthankar   \n",
       "2179  2018.0  100.000000      7     5.7    78.0      1120    Shashank Arora   \n",
       "2180  1996.0  123.200551      0     4.7    29.0        38      Mahesh Anand   \n",
       "2181  2015.0  115.000000      7     6.1   408.0       701     Vicky Kaushal   \n",
       "2182  1988.0  123.200551      0     4.6    11.0       621  Naseeruddin Shah   \n",
       "\n",
       "                 Actor 2           Actor 3  \n",
       "0         Vivek Ghamande     Arvind Jangid  \n",
       "1         Gulshan Grover     Atul Kulkarni  \n",
       "2           Anubhav Dhir      Hritu Dudani  \n",
       "3     Konkona Sen Sharma        Rahul Bose  \n",
       "4           Tisca Chopra     Shakti Kapoor  \n",
       "...                  ...               ...  \n",
       "2178       Mita Vashisht     Milind Gunaji  \n",
       "2179       Prince Daniel   Shatakshi Gupta  \n",
       "2180         Vikas Anand       Bob Christo  \n",
       "2181     Sarah Jane Dias  Raaghavv Chanana  \n",
       "2182       Sumeet Saigal     Suparna Anand  \n",
       "\n",
       "[2183 rows x 9 columns]"
      ]
     },
     "execution_count": 57,
     "metadata": {},
     "output_type": "execute_result"
    }
   ],
   "source": [
    "dataset"
   ]
  },
  {
   "cell_type": "code",
   "execution_count": null,
   "id": "1bb2adb6-02a8-453a-82f0-c71815621112",
   "metadata": {},
   "outputs": [],
   "source": []
  },
  {
   "cell_type": "code",
   "execution_count": null,
   "id": "b4d5466f-08ca-4d4b-b385-0848c9579712",
   "metadata": {},
   "outputs": [],
   "source": []
  },
  {
   "cell_type": "code",
   "execution_count": null,
   "id": "d4e8ba98-8478-4861-a5f4-c620cc3059ac",
   "metadata": {},
   "outputs": [],
   "source": []
  },
  {
   "cell_type": "code",
   "execution_count": null,
   "id": "2722a9c9-0212-488d-a318-ed67346ea82d",
   "metadata": {},
   "outputs": [],
   "source": []
  },
  {
   "cell_type": "code",
   "execution_count": null,
   "id": "421ff299-55b0-4b73-b544-16cd039f7e26",
   "metadata": {},
   "outputs": [],
   "source": []
  },
  {
   "cell_type": "code",
   "execution_count": null,
   "id": "46f680d2-f2b6-4cd3-96bf-89280f35a1f4",
   "metadata": {},
   "outputs": [],
   "source": []
  },
  {
   "cell_type": "code",
   "execution_count": null,
   "id": "f423e248-fbc0-4a22-bae9-b848a7b12e30",
   "metadata": {
    "tags": []
   },
   "outputs": [],
   "source": []
  },
  {
   "cell_type": "code",
   "execution_count": 8,
   "id": "9fbecaa9-08cd-4d87-80c0-f14a94ae5e48",
   "metadata": {
    "tags": []
   },
   "outputs": [],
   "source": []
  },
  {
   "cell_type": "code",
   "execution_count": null,
   "id": "430d8716-552f-422e-9ef1-a847cdce768d",
   "metadata": {
    "tags": []
   },
   "outputs": [],
   "source": []
  },
  {
   "cell_type": "code",
   "execution_count": null,
   "id": "88c7f401-d74d-4cbc-ba03-28561e45bf31",
   "metadata": {
    "tags": []
   },
   "outputs": [],
   "source": []
  },
  {
   "cell_type": "code",
   "execution_count": 9,
   "id": "08a33d22-7879-48cf-89e1-bc97da8ff38a",
   "metadata": {
    "tags": []
   },
   "outputs": [],
   "source": []
  },
  {
   "cell_type": "code",
   "execution_count": null,
   "id": "0586c01c-eaa1-4935-89c3-383a2427cc71",
   "metadata": {
    "tags": []
   },
   "outputs": [],
   "source": []
  },
  {
   "cell_type": "code",
   "execution_count": null,
   "id": "b65fc990-6aac-4608-9f79-dd897707e8c7",
   "metadata": {
    "tags": []
   },
   "outputs": [],
   "source": []
  },
  {
   "cell_type": "code",
   "execution_count": null,
   "id": "940c7de9-fd1b-43cc-9e4e-318e73f11bf6",
   "metadata": {
    "tags": []
   },
   "outputs": [],
   "source": []
  },
  {
   "cell_type": "code",
   "execution_count": null,
   "id": "98954d9d-1c29-4fa3-9d0d-20ed162733c5",
   "metadata": {},
   "outputs": [],
   "source": []
  },
  {
   "cell_type": "code",
   "execution_count": 10,
   "id": "bcd6d7f4-0a40-46ab-b4ce-fcecf27b343d",
   "metadata": {
    "tags": []
   },
   "outputs": [],
   "source": []
  },
  {
   "cell_type": "code",
   "execution_count": 11,
   "id": "1e6d0d4a-768f-46f4-b305-933d1ce6a1a8",
   "metadata": {
    "tags": []
   },
   "outputs": [],
   "source": []
  },
  {
   "cell_type": "code",
   "execution_count": 12,
   "id": "a1c9df40-e5e9-4452-83f9-971c0fda385d",
   "metadata": {},
   "outputs": [],
   "source": [
    "# def find_unique_actors(dataset):\n",
    "#     actors_concatenated = pd.concat([dataset['Actor 1'], dataset['Actor 2'], dataset['Actor 3']], ignore_index=True)\n",
    "    \n",
    "#     actors = pd.DataFrame({'Actor' : actors_concatenated})\n",
    "#     actors.drop_duplicates(inplace=True)\n",
    "#     actors.reset_index(drop = True, inplace = True)\n",
    "\n",
    "#     return actors\n",
    "# unique_actors = find_unique_actors(dataset)\n",
    "# actor_dict = {}\n",
    "# for i, actor in enumerate(unique_actors['Actor']):\n",
    "#     actor_dict[actor] = i+1\n",
    "    \n",
    "# dataset['Actor 1'] = dataset['Actor 1'].map(actor_dict)\n",
    "# dataset['Actor 2'] = dataset['Actor 2'].map(actor_dict)\n",
    "# dataset['Actor 3'] = dataset['Actor 3'].map(actor_dict)\n"
   ]
  },
  {
   "cell_type": "code",
   "execution_count": null,
   "id": "74ff8e30-3154-482c-85fb-9f91045bfa66",
   "metadata": {},
   "outputs": [],
   "source": []
  },
  {
   "cell_type": "code",
   "execution_count": 13,
   "id": "43e4b350-39d1-4fc2-8a59-4ae4a3f22ed9",
   "metadata": {
    "tags": []
   },
   "outputs": [],
   "source": [
    "# def split_genre(dataset):\n",
    "#     for index, row in dataset.iterrows():\n",
    "#         genres = row['Genre'].split(', ')\n",
    "#         for i, genre in enumerate(genres):\n",
    "#             dataset.at[index, f'Genre {i+1}'] = genre\n",
    "\n",
    "# split_genre(df_test)\n"
   ]
  },
  {
   "cell_type": "code",
   "execution_count": null,
   "id": "5132863a-afd4-4e3f-9a5d-5c038cbf83a5",
   "metadata": {
    "tags": []
   },
   "outputs": [],
   "source": []
  },
  {
   "cell_type": "code",
   "execution_count": null,
   "id": "feb0622f-2ca0-4e2a-b276-e9c168743359",
   "metadata": {
    "tags": []
   },
   "outputs": [],
   "source": []
  },
  {
   "cell_type": "code",
   "execution_count": null,
   "id": "3e7ec66b-0a4b-45d6-be03-c26c77c38c49",
   "metadata": {
    "tags": []
   },
   "outputs": [],
   "source": []
  },
  {
   "cell_type": "code",
   "execution_count": 68,
   "id": "becb0fbd-d68a-47b6-baa9-ddba29f2e9b8",
   "metadata": {},
   "outputs": [],
   "source": [
    "from sklearn.preprocessing import LabelEncoder\n",
    "\n",
    "label_encoder = LabelEncoder()\n",
    "\n",
    "\n",
    "# dataset['Director'] = label_encoder.fit_transform(dataset['Director'])\n",
    "# dataset['Genre'] = label_encoder.fit_transform(dataset['Genre'])\n",
    "\n",
    "# # director_mapping = dict(zip(label_encoder.classes_, label_encoder.transform(label_encoder.classes_)))\n",
    "# # genre_mapping = dict(zip(label_encoder.classes_, label_encoder.transform(label_encoder.classes_)))\n",
    "# # this is a list of the data used to encode the Director feature of the dataset\n",
    "\n",
    "\n",
    "# dictionary to store mappings\n",
    "encoded_mappings = {}\n",
    "\n",
    "columns_to_encode = ['Genre', 'Director', 'Actor 1', 'Actor 2', 'Actor 3']\n",
    "\n",
    "for column in columns_to_encode:\n",
    "    # Fit and transform the column to numerical values\n",
    "    dataset[column] = label_encoder.fit_transform(dataset[column])\n",
    "    \n",
    "    unique_labels = label_encoder.classes_\n",
    "    \n",
    "    # Create a dictionary to map numerical values to labels\n",
    "    mapping = {i: label for i, label in enumerate(unique_labels)}\n",
    "    \n",
    "    # Add the mapping to the dictionary of mappings\n",
    "    encoded_mappings[column] = mapping\n",
    "\n",
    "# Now encoded_mappings contains a dictionary for each encoded column\n",
    "# print(encoded_mappings) # This will print out a large set of mapped values, so dont activate it unless you want to visualise them at whole."
   ]
  },
  {
   "cell_type": "markdown",
   "id": "e1649994-78ef-4bc1-9328-0115f71914b3",
   "metadata": {},
   "source": [
    "# Prediction model"
   ]
  },
  {
   "cell_type": "code",
   "execution_count": 69,
   "id": "acbaa037-5d9e-40e2-a7da-f4dd1b19ff70",
   "metadata": {},
   "outputs": [],
   "source": [
    "\n",
    "X = dataset[[ 'Year', 'Votes', 'Duration', 'Genre','Director','Actor 1', 'Actor 2', 'Actor 3']]\n",
    "Y = dataset['Rating']"
   ]
  },
  {
   "cell_type": "code",
   "execution_count": 70,
   "id": "97e4d785-3c04-42e6-be43-c52f4cca5aca",
   "metadata": {},
   "outputs": [],
   "source": [
    "from sklearn.model_selection import train_test_split"
   ]
  },
  {
   "cell_type": "code",
   "execution_count": 71,
   "id": "9d8b3f23-4b93-4131-855f-957e3b6c49da",
   "metadata": {},
   "outputs": [],
   "source": [
    "X_train, X_test, Y_train, Y_test = train_test_split(X, Y, test_size = 0.2, random_state = 42) "
   ]
  },
  {
   "cell_type": "code",
   "execution_count": 72,
   "id": "b0e00937-9dd1-4f32-b9c3-6ce49984da8d",
   "metadata": {
    "tags": []
   },
   "outputs": [
    {
     "data": {
      "text/html": [
       "<div>\n",
       "<style scoped>\n",
       "    .dataframe tbody tr th:only-of-type {\n",
       "        vertical-align: middle;\n",
       "    }\n",
       "\n",
       "    .dataframe tbody tr th {\n",
       "        vertical-align: top;\n",
       "    }\n",
       "\n",
       "    .dataframe thead th {\n",
       "        text-align: right;\n",
       "    }\n",
       "</style>\n",
       "<table border=\"1\" class=\"dataframe\">\n",
       "  <thead>\n",
       "    <tr style=\"text-align: right;\">\n",
       "      <th></th>\n",
       "      <th>Year</th>\n",
       "      <th>Votes</th>\n",
       "      <th>Duration</th>\n",
       "      <th>Genre</th>\n",
       "      <th>Director</th>\n",
       "      <th>Actor 1</th>\n",
       "      <th>Actor 2</th>\n",
       "      <th>Actor 3</th>\n",
       "    </tr>\n",
       "  </thead>\n",
       "  <tbody>\n",
       "    <tr>\n",
       "      <th>812</th>\n",
       "      <td>2018.0</td>\n",
       "      <td>166.0</td>\n",
       "      <td>106.000000</td>\n",
       "      <td>7</td>\n",
       "      <td>721</td>\n",
       "      <td>448</td>\n",
       "      <td>1075</td>\n",
       "      <td>1270</td>\n",
       "    </tr>\n",
       "    <tr>\n",
       "      <th>256</th>\n",
       "      <td>2015.0</td>\n",
       "      <td>13.0</td>\n",
       "      <td>68.000000</td>\n",
       "      <td>2</td>\n",
       "      <td>1291</td>\n",
       "      <td>1231</td>\n",
       "      <td>824</td>\n",
       "      <td>1117</td>\n",
       "    </tr>\n",
       "    <tr>\n",
       "      <th>2083</th>\n",
       "      <td>1990.0</td>\n",
       "      <td>12.0</td>\n",
       "      <td>135.000000</td>\n",
       "      <td>0</td>\n",
       "      <td>410</td>\n",
       "      <td>265</td>\n",
       "      <td>847</td>\n",
       "      <td>459</td>\n",
       "    </tr>\n",
       "    <tr>\n",
       "      <th>1710</th>\n",
       "      <td>2017.0</td>\n",
       "      <td>8.0</td>\n",
       "      <td>54.000000</td>\n",
       "      <td>7</td>\n",
       "      <td>219</td>\n",
       "      <td>1103</td>\n",
       "      <td>323</td>\n",
       "      <td>516</td>\n",
       "    </tr>\n",
       "    <tr>\n",
       "      <th>561</th>\n",
       "      <td>2015.0</td>\n",
       "      <td>20.0</td>\n",
       "      <td>120.000000</td>\n",
       "      <td>0</td>\n",
       "      <td>157</td>\n",
       "      <td>537</td>\n",
       "      <td>702</td>\n",
       "      <td>795</td>\n",
       "    </tr>\n",
       "    <tr>\n",
       "      <th>...</th>\n",
       "      <td>...</td>\n",
       "      <td>...</td>\n",
       "      <td>...</td>\n",
       "      <td>...</td>\n",
       "      <td>...</td>\n",
       "      <td>...</td>\n",
       "      <td>...</td>\n",
       "      <td>...</td>\n",
       "    </tr>\n",
       "    <tr>\n",
       "      <th>1638</th>\n",
       "      <td>2017.0</td>\n",
       "      <td>61.0</td>\n",
       "      <td>112.000000</td>\n",
       "      <td>15</td>\n",
       "      <td>381</td>\n",
       "      <td>922</td>\n",
       "      <td>266</td>\n",
       "      <td>642</td>\n",
       "    </tr>\n",
       "    <tr>\n",
       "      <th>1095</th>\n",
       "      <td>2018.0</td>\n",
       "      <td>41.0</td>\n",
       "      <td>65.000000</td>\n",
       "      <td>7</td>\n",
       "      <td>123</td>\n",
       "      <td>635</td>\n",
       "      <td>1039</td>\n",
       "      <td>938</td>\n",
       "    </tr>\n",
       "    <tr>\n",
       "      <th>1130</th>\n",
       "      <td>2018.0</td>\n",
       "      <td>7.0</td>\n",
       "      <td>92.000000</td>\n",
       "      <td>4</td>\n",
       "      <td>1077</td>\n",
       "      <td>972</td>\n",
       "      <td>1305</td>\n",
       "      <td>746</td>\n",
       "    </tr>\n",
       "    <tr>\n",
       "      <th>1294</th>\n",
       "      <td>1987.0</td>\n",
       "      <td>9.0</td>\n",
       "      <td>123.200551</td>\n",
       "      <td>13</td>\n",
       "      <td>105</td>\n",
       "      <td>233</td>\n",
       "      <td>666</td>\n",
       "      <td>168</td>\n",
       "    </tr>\n",
       "    <tr>\n",
       "      <th>860</th>\n",
       "      <td>1996.0</td>\n",
       "      <td>218.0</td>\n",
       "      <td>143.000000</td>\n",
       "      <td>7</td>\n",
       "      <td>1178</td>\n",
       "      <td>147</td>\n",
       "      <td>155</td>\n",
       "      <td>774</td>\n",
       "    </tr>\n",
       "  </tbody>\n",
       "</table>\n",
       "<p>1746 rows × 8 columns</p>\n",
       "</div>"
      ],
      "text/plain": [
       "        Year  Votes    Duration  Genre  Director  Actor 1  Actor 2  Actor 3\n",
       "812   2018.0  166.0  106.000000      7       721      448     1075     1270\n",
       "256   2015.0   13.0   68.000000      2      1291     1231      824     1117\n",
       "2083  1990.0   12.0  135.000000      0       410      265      847      459\n",
       "1710  2017.0    8.0   54.000000      7       219     1103      323      516\n",
       "561   2015.0   20.0  120.000000      0       157      537      702      795\n",
       "...      ...    ...         ...    ...       ...      ...      ...      ...\n",
       "1638  2017.0   61.0  112.000000     15       381      922      266      642\n",
       "1095  2018.0   41.0   65.000000      7       123      635     1039      938\n",
       "1130  2018.0    7.0   92.000000      4      1077      972     1305      746\n",
       "1294  1987.0    9.0  123.200551     13       105      233      666      168\n",
       "860   1996.0  218.0  143.000000      7      1178      147      155      774\n",
       "\n",
       "[1746 rows x 8 columns]"
      ]
     },
     "execution_count": 72,
     "metadata": {},
     "output_type": "execute_result"
    }
   ],
   "source": [
    "X_train"
   ]
  },
  {
   "cell_type": "code",
   "execution_count": 73,
   "id": "8bc82407-a7c5-4ed8-8270-bb85480f7e4e",
   "metadata": {
    "tags": []
   },
   "outputs": [],
   "source": [
    "from sklearn.linear_model import LinearRegression\n",
    "from sklearn.ensemble import RandomForestRegressor, RandomForestClassifier"
   ]
  },
  {
   "cell_type": "code",
   "execution_count": 74,
   "id": "7efa03fb-db84-40e2-aba5-0d1ef0a24cd5",
   "metadata": {
    "tags": []
   },
   "outputs": [],
   "source": [
    "linear_regression = LinearRegression()\n",
    "Rnd_forest_reg = RandomForestRegressor() # Defining our model\n",
    "# Rnd_forest_classifier = RandomForestClassifier()"
   ]
  },
  {
   "cell_type": "code",
   "execution_count": 75,
   "id": "50218d25-8f4d-4bf4-9f43-cf8eb4ce3da7",
   "metadata": {
    "tags": []
   },
   "outputs": [],
   "source": [
    "linear_regression_fit = linear_regression.fit(X_train, Y_train)\n",
    "linear_regression_pred = linear_regression.predict(X_test)\n",
    "\n",
    "Rnd_forest_reg_fit = Rnd_forest_reg.fit(X_train, Y_train)\n",
    "Rnd_forest_reg_pred = Rnd_forest_reg.predict(X_test)\n",
    "\n",
    "# Rnd_forest_classifier_fit =Rnd_forest_classifier.fit(X_train, Y_train)\n",
    "# Rnd_forest_classifier_pred = Rnd_forest_classifier.predict(X_test)"
   ]
  },
  {
   "cell_type": "code",
   "execution_count": 76,
   "id": "c96d930b-6df9-4e88-977b-5f0940e3bd7d",
   "metadata": {
    "tags": []
   },
   "outputs": [],
   "source": [
    "from sklearn.metrics import r2_score"
   ]
  },
  {
   "cell_type": "code",
   "execution_count": 77,
   "id": "61457452-26c1-4961-8e6d-b28b3de17450",
   "metadata": {
    "tags": []
   },
   "outputs": [
    {
     "name": "stdout",
     "output_type": "stream",
     "text": [
      "R2 score:  0.02668165258912014\n",
      "R2 score:  0.30375539481177705\n"
     ]
    }
   ],
   "source": [
    "print('R2 score: ',r2_score(Y_test, linear_regression_pred))\n",
    "print('R2 score: ', r2_score(Y_test, Rnd_forest_reg_pred))"
   ]
  },
  {
   "cell_type": "code",
   "execution_count": null,
   "id": "cfa494db-61d1-4606-b436-58b6d477bf2d",
   "metadata": {},
   "outputs": [],
   "source": []
  }
 ],
 "metadata": {
  "kernelspec": {
   "display_name": "Python 3 (ipykernel)",
   "language": "python",
   "name": "python3"
  },
  "language_info": {
   "codemirror_mode": {
    "name": "ipython",
    "version": 3
   },
   "file_extension": ".py",
   "mimetype": "text/x-python",
   "name": "python",
   "nbconvert_exporter": "python",
   "pygments_lexer": "ipython3",
   "version": "3.11.5"
  }
 },
 "nbformat": 4,
 "nbformat_minor": 5
}
